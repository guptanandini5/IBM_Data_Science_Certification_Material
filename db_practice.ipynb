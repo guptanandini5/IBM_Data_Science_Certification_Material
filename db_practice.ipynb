{
 "cells": [
  {
   "cell_type": "code",
   "execution_count": 2,
   "metadata": {},
   "outputs": [],
   "source": [
    "dropQuery = \"drop table INSTRUCTOR\"\n",
    "dropStmt = ibm_db.exec_immediate(conn,dropQuery)"
   ]
  },
  {
   "cell_type": "code",
   "execution_count": 1,
   "metadata": {},
   "outputs": [
    {
     "name": "stdout",
     "output_type": "stream",
     "text": [
      "Connected to database:  BLUDB as user:  hln09807 on host:  dashdb-txn-sbox-yp-dal09-03.services.dal.bluemix.net\n"
     ]
    }
   ],
   "source": [
    "import ibm_db\n",
    "\n",
    "nand_driver = \"{IBM DB2 ODBC DRIVER}\"\n",
    "nand_database = \"BLUDB\"        \n",
    "nand_uid = \"hln09807\"                 \n",
    "nand_pwd = \"l1jd9mx3m4z3x6^h\" \n",
    "nand_hostname = \"dashdb-txn-sbox-yp-dal09-03.services.dal.bluemix.net\"        \n",
    "nand_port = \"50000\"                   \n",
    "nand_protocol = \"TCPIP\"           \n",
    "\n",
    "\n",
    "\n",
    "#Create database connection\n",
    "nand = (\n",
    "    \"DRIVER={0};\"\n",
    "    \"DATABASE={1};\"\n",
    "    \"UID={2};\"\n",
    "    \"PWD={3};\"\n",
    "    \"HOSTNAME={4};\"\n",
    "    \"PORT={5};\"\n",
    "    \"PROTOCOL={6};\"\n",
    "      ).format(nand_driver, nand_database, nand_uid, nand_pwd, nand_hostname, nand_port, nand_protocol)\n",
    "\n",
    "try:\n",
    "    conn = ibm_db.connect(nand , \"\" , \"\")\n",
    "    print(\"Connected to database: \", nand_database, \"as user: \", nand_uid, \"on host: \", nand_hostname)\n",
    "    \n",
    "except:\n",
    "    print(\"Unable to connect: \", ibm_db.conn_errormsg())\n",
    "    \n",
    "    \n",
    "    \n",
    "\n"
   ]
  },
  {
   "cell_type": "code",
   "execution_count": 3,
   "metadata": {},
   "outputs": [],
   "source": [
    "createQuery = \"Create Table INSTRUCTOR(ID INTEGER PRIMARY KEY NOT NULL, FNAME varchar(20) , LNAME varchar(20) , CITY varchar(20) , CCODE char(2))\"\n",
    "createStmt = ibm_db.exec_immediate(conn , createQuery)"
   ]
  },
  {
   "cell_type": "code",
   "execution_count": 4,
   "metadata": {},
   "outputs": [
    {
     "data": {
      "text/plain": [
       "<ibm_db.IBM_DBStatement at 0x7fb3355b9490>"
      ]
     },
     "execution_count": 4,
     "metadata": {},
     "output_type": "execute_result"
    }
   ],
   "source": [
    "insertQuery = \"Insert into INSTRUCTOR values (1,'A','B1','LKO','LK'),(2,'C','D','DEL','DL'),(3,'A1','B2','LKO1','LM'),(4,'C1','D1','DEL1','DJ')\"\n",
    "ibm_db.exec_immediate(conn , insertQuery)"
   ]
  },
  {
   "cell_type": "code",
   "execution_count": 30,
   "metadata": {},
   "outputs": [
    {
     "name": "stdout",
     "output_type": "stream",
     "text": [
      "ID:  1\n",
      "FNAME:  A\n",
      "CITY:  LKO\n",
      "ID:  2\n",
      "FNAME:  C\n",
      "CITY:  DEL\n",
      "ID:  3\n",
      "FNAME:  A1\n",
      "CITY:  LKO1\n",
      "ID:  4\n",
      "FNAME:  C1\n",
      "CITY:  DEL1\n"
     ]
    }
   ],
   "source": [
    "selectStmt = ibm_db.exec_immediate(conn , \"select * from INSTRUCTOR\")\n",
    "dictionary=ibm_db.fetch_assoc(selectStmt)\n",
    "while dictionary != False:\n",
    "    print(\"ID: \",dictionary[\"ID\"])\n",
    "    print(\"FNAME: \",dictionary[\"FNAME\"])\n",
    "    print(\"CITY: \",dictionary[\"CITY\"])\n",
    "    dictionary = ibm_db.fetch_assoc(selectStmt)"
   ]
  },
  {
   "cell_type": "code",
   "execution_count": 39,
   "metadata": {},
   "outputs": [
    {
     "name": "stdout",
     "output_type": "stream",
     "text": [
      " ID: 1\n",
      " FNAME: A\n",
      " ID: 2\n",
      " FNAME: Nandini\n",
      " ID: 3\n",
      " FNAME: A1\n",
      " ID: 4\n",
      " FNAME: C1\n"
     ]
    }
   ],
   "source": [
    "#Fetch the rest of the rows and print the ID and FNAME for those rows\n",
    "selectStmt = ibm_db.exec_immediate(conn , \"select * from INSTRUCTOR\")\n",
    "while ibm_db.fetch_row(selectStmt) != False:\n",
    "    print(\" ID:\" ,  ibm_db.result(selectStmt,\"ID\"))\n",
    "    print(\" FNAME:\" ,  ibm_db.result(selectStmt,1))\n",
    "              "
   ]
  },
  {
   "cell_type": "code",
   "execution_count": 37,
   "metadata": {},
   "outputs": [],
   "source": [
    "updateStmt = ibm_db.exec_immediate(conn , \"update INSTRUCTOR set FNAME = 'Nandini' where ID = 2 \")"
   ]
  },
  {
   "cell_type": "code",
   "execution_count": 42,
   "metadata": {},
   "outputs": [
    {
     "data": {
      "text/html": [
       "<div>\n",
       "<style scoped>\n",
       "    .dataframe tbody tr th:only-of-type {\n",
       "        vertical-align: middle;\n",
       "    }\n",
       "\n",
       "    .dataframe tbody tr th {\n",
       "        vertical-align: top;\n",
       "    }\n",
       "\n",
       "    .dataframe thead th {\n",
       "        text-align: right;\n",
       "    }\n",
       "</style>\n",
       "<table border=\"1\" class=\"dataframe\">\n",
       "  <thead>\n",
       "    <tr style=\"text-align: right;\">\n",
       "      <th></th>\n",
       "      <th>ID</th>\n",
       "      <th>FNAME</th>\n",
       "      <th>LNAME</th>\n",
       "      <th>CITY</th>\n",
       "      <th>CCODE</th>\n",
       "    </tr>\n",
       "  </thead>\n",
       "  <tbody>\n",
       "    <tr>\n",
       "      <th>0</th>\n",
       "      <td>1</td>\n",
       "      <td>A</td>\n",
       "      <td>B1</td>\n",
       "      <td>LKO</td>\n",
       "      <td>LK</td>\n",
       "    </tr>\n",
       "    <tr>\n",
       "      <th>1</th>\n",
       "      <td>2</td>\n",
       "      <td>Nandini</td>\n",
       "      <td>D</td>\n",
       "      <td>DEL</td>\n",
       "      <td>DL</td>\n",
       "    </tr>\n",
       "    <tr>\n",
       "      <th>2</th>\n",
       "      <td>3</td>\n",
       "      <td>A1</td>\n",
       "      <td>B2</td>\n",
       "      <td>LKO1</td>\n",
       "      <td>LM</td>\n",
       "    </tr>\n",
       "    <tr>\n",
       "      <th>3</th>\n",
       "      <td>4</td>\n",
       "      <td>C1</td>\n",
       "      <td>D1</td>\n",
       "      <td>DEL1</td>\n",
       "      <td>DJ</td>\n",
       "    </tr>\n",
       "  </tbody>\n",
       "</table>\n",
       "</div>"
      ],
      "text/plain": [
       "   ID    FNAME LNAME  CITY CCODE\n",
       "0   1        A    B1   LKO    LK\n",
       "1   2  Nandini     D   DEL    DL\n",
       "2   3       A1    B2  LKO1    LM\n",
       "3   4       C1    D1  DEL1    DJ"
      ]
     },
     "execution_count": 42,
     "metadata": {},
     "output_type": "execute_result"
    }
   ],
   "source": [
    "import pandas\n",
    "import ibm_db_dbi\n",
    "\n",
    "pdconn = ibm_db_dbi.Connection(conn)\n",
    "pdf = pandas.read_sql(\"Select * from Instructor\" , pdconn)\n",
    "pdf\n"
   ]
  },
  {
   "cell_type": "code",
   "execution_count": 43,
   "metadata": {},
   "outputs": [
    {
     "data": {
      "text/plain": [
       "'A1'"
      ]
     },
     "execution_count": 43,
     "metadata": {},
     "output_type": "execute_result"
    }
   ],
   "source": [
    "pdf.FNAME[2]"
   ]
  },
  {
   "cell_type": "code",
   "execution_count": 44,
   "metadata": {},
   "outputs": [
    {
     "data": {
      "text/plain": [
       "(4, 5)"
      ]
     },
     "execution_count": 44,
     "metadata": {},
     "output_type": "execute_result"
    }
   ],
   "source": [
    "pdf.shape"
   ]
  },
  {
   "cell_type": "code",
   "execution_count": 45,
   "metadata": {},
   "outputs": [
    {
     "data": {
      "text/plain": [
       "True"
      ]
     },
     "execution_count": 45,
     "metadata": {},
     "output_type": "execute_result"
    }
   ],
   "source": [
    "ibm_db.close(conn)"
   ]
  },
  {
   "cell_type": "code",
   "execution_count": null,
   "metadata": {},
   "outputs": [],
   "source": []
  }
 ],
 "metadata": {
  "kernelspec": {
   "display_name": "Python",
   "language": "python",
   "name": "conda-env-python-py"
  },
  "language_info": {
   "codemirror_mode": {
    "name": "ipython",
    "version": 3
   },
   "file_extension": ".py",
   "mimetype": "text/x-python",
   "name": "python",
   "nbconvert_exporter": "python",
   "pygments_lexer": "ipython3",
   "version": "3.6.7"
  }
 },
 "nbformat": 4,
 "nbformat_minor": 4
}
